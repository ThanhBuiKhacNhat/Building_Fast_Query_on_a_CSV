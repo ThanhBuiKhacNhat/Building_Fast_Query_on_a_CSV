{
 "cells": [
  {
   "cell_type": "code",
   "execution_count": null,
   "metadata": {},
   "outputs": [],
   "source": []
  },
  {
   "cell_type": "markdown",
   "metadata": {},
   "source": [
    "# Describe dataset:\n",
    "* ID: A unique identifier for the laptop.\n",
    "* Company: The name of the company that produces the laptop.\n",
    "* Product: The name of the laptop.\n",
    "* TypeName: The type of laptop.\n",
    "* Inches: The size of the screen in inches.\n",
    "* ScreenResolution: The resolution of the screen.\n",
    "* CPU: The laptop CPU.\n",
    "* RAM: The amount of RAM in the laptop.\n",
    "* Memory: The size of the hard drive.\n",
    "* GPU: The graphics card name.\n",
    "* OpSys: The name of the operating system.\n",
    "* Weight: The laptop weight.\n",
    "* Price: The price of the laptop."
   ]
  },
  {
   "cell_type": "markdown",
   "metadata": {},
   "source": [
    "### Reading the Inventory"
   ]
  },
  {
   "cell_type": "markdown",
   "metadata": {},
   "source": [
    "Use the `CSV` module to read the laptop.csv file and separate the header from the rows"
   ]
  },
  {
   "cell_type": "code",
   "execution_count": 2,
   "metadata": {},
   "outputs": [
    {
     "name": "stdout",
     "output_type": "stream",
     "text": [
      "['laptop_ID', 'Company', 'Product', 'TypeName', 'Inches', 'ScreenResolution', 'Cpu', 'Ram', 'Memory', 'Gpu', 'OpSys', 'Weight', 'Price_euros']\n",
      "[['1', 'Apple', 'MacBook Pro', 'Ultrabook', '13.3', 'IPS Panel Retina Display 2560x1600', 'Intel Core i5 2.3GHz', '8GB', '128GB SSD', 'Intel Iris Plus Graphics 640', 'macOS', '1.37kg', '1339.69'], ['2', 'Apple', 'Macbook Air', 'Ultrabook', '13.3', '1440x900', 'Intel Core i5 1.8GHz', '8GB', '128GB Flash Storage', 'Intel HD Graphics 6000', 'macOS', '1.34kg', '898.94'], ['3', 'HP', '250 G6', 'Notebook', '15.6', 'Full HD 1920x1080', 'Intel Core i5 7200U 2.5GHz', '8GB', '256GB SSD', 'Intel HD Graphics 620', 'No OS', '1.86kg', '575.00'], ['4', 'Apple', 'MacBook Pro', 'Ultrabook', '15.4', 'IPS Panel Retina Display 2880x1800', 'Intel Core i7 2.7GHz', '16GB', '512GB SSD', 'AMD Radeon Pro 455', 'macOS', '1.83kg', '2537.45'], ['5', 'Apple', 'MacBook Pro', 'Ultrabook', '13.3', 'IPS Panel Retina Display 2560x1600', 'Intel Core i5 3.1GHz', '8GB', '256GB SSD', 'Intel Iris Plus Graphics 650', 'macOS', '1.37kg', '1803.60']]\n"
     ]
    }
   ],
   "source": [
    "import csv\n",
    "\n",
    "with open('laptop_price.csv',encoding='utf-8', errors='ignore') as f:\n",
    "    reader = csv.reader(f)\n",
    "    rows = list(reader)\n",
    "    header = rows[0]\n",
    "    rows = rows[1:]\n",
    "    \n",
    "print(header)\n",
    "print(rows[:5])"
   ]
  },
  {
   "cell_type": "markdown",
   "metadata": {},
   "source": [
    "### Inventory Class\n"
   ]
  },
  {
   "cell_type": "markdown",
   "metadata": {},
   "source": [
    "Start implementing a class to represent the inventory . It get the name of the CSV file as argument and reads it into **self.header** and **self.rows**."
   ]
  },
  {
   "cell_type": "code",
   "execution_count": 9,
   "metadata": {},
   "outputs": [
    {
     "name": "stdout",
     "output_type": "stream",
     "text": [
      "['laptop_ID', 'Company', 'Product', 'TypeName', 'Inches', 'ScreenResolution', 'Cpu', 'Ram', 'Memory', 'Gpu', 'OpSys', 'Weight', 'Price_euros']\n",
      "1303\n"
     ]
    }
   ],
   "source": [
    "class Inventory ():\n",
    "    def __init__(self, csv_filename):\n",
    "        with open(csv_filename,encoding='utf-8', errors='ignore') as f:\n",
    "            reader = csv.reader(f)\n",
    "            rows = list(reader)\n",
    "        self.header = rows[0]\n",
    "        self.rows = rows[1:]\n",
    "        for row in self.rows:\n",
    "            row[-1] = float(row[-1])\n",
    "            row[-1] = int(row[-1])\n",
    "inventory = Inventory('laptop_price.csv')\n",
    "print(inventory.header)\n",
    "print(len(inventory.rows))"
   ]
  },
  {
   "cell_type": "markdown",
   "metadata": {},
   "source": [
    "### Finding a Laptop From the Id\n"
   ]
  },
  {
   "cell_type": "markdown",
   "metadata": {},
   "source": [
    "Implement a get_laptop_from_id() function that given a laptop identifier find the row corresponding to that laptop."
   ]
  },
  {
   "cell_type": "code",
   "execution_count": 27,
   "metadata": {},
   "outputs": [],
   "source": [
    "class Inventory ():\n",
    "    def __init__(self, csv_filename):\n",
    "        with open(csv_filename,encoding='utf-8', errors='ignore') as f:\n",
    "            reader = csv.reader(f)\n",
    "            rows = list(reader)\n",
    "        self.header = rows[0]\n",
    "        self.rows = rows[1:]\n",
    "        for row in self.rows:\n",
    "            row[-1] = float(row[-1])\n",
    "            row[-1] = int(row[-1])\n",
    "    def get_laptop_from_id(self,laptop_id):\n",
    "        for row in self.rows:\n",
    "            if row[0]== laptop_id:\n",
    "                return row\n",
    "        return None"
   ]
  },
  {
   "cell_type": "code",
   "execution_count": 28,
   "metadata": {},
   "outputs": [
    {
     "name": "stdout",
     "output_type": "stream",
     "text": [
      "['37', 'Acer', 'Aspire 3', 'Notebook', '15.6', '1366x768', 'Intel Core i3 7130U 2.7GHz', '4GB', '1TB HDD', 'Intel HD Graphics 620', 'Linux', '2.1kg', 367]\n",
      "['36', 'Lenovo', 'IdeaPad 120S-14IAP', 'Notebook', '14', '1366x768', 'Intel Celeron Dual Core N3350 1.1GHz', '4GB', '64GB Flash Storage', 'Intel HD Graphics 500', 'Windows 10', '1.44kg', 249]\n"
     ]
    }
   ],
   "source": [
    "inventory = Inventory('laptop_price.csv')\n",
    "print(inventory.get_laptop_from_id('37'))\n",
    "print(inventory.get_laptop_from_id('36'))"
   ]
  },
  {
   "cell_type": "markdown",
   "metadata": {},
   "source": [
    "### Improving ID Lookups]\n"
   ]
  },
  {
   "cell_type": "markdown",
   "metadata": {},
   "source": [
    "Improve the time complexity of finding a laptop with a given ib by precomputing a dictionary that maps laptop ids to rows."
   ]
  },
  {
   "cell_type": "code",
   "execution_count": 52,
   "metadata": {},
   "outputs": [],
   "source": [
    "class Inventory ():\n",
    "    def __init__(self, csv_filename):\n",
    "        with open(csv_filename,encoding='utf-8', errors='ignore') as f:\n",
    "            reader = csv.reader(f)\n",
    "            rows = list(reader)\n",
    "        self.header = rows[0]\n",
    "        self.rows = rows[1:]\n",
    "        for row in self.rows:\n",
    "            row[-1] = float(row[-1])\n",
    "            row[-1] = int(row[-1])\n",
    "        self.id_to_row = {}\n",
    "        for row in self.rows:\n",
    "            self.id_to_row[row[0]] = row\n",
    "    def get_laptop_from_id_fast(self,laptop_id):\n",
    "        if laptop_id in self.id_to_row:\n",
    "            return self.id_to_row[laptop_id]\n",
    "        return None\n",
    "    def get_laptop_from_id(self, laptop_id):\n",
    "        for row in self.rows:\n",
    "            if row[0] == laptop_id:\n",
    "                return row"
   ]
  },
  {
   "cell_type": "code",
   "execution_count": 43,
   "metadata": {},
   "outputs": [
    {
     "name": "stdout",
     "output_type": "stream",
     "text": [
      "['37', 'Acer', 'Aspire 3', 'Notebook', '15.6', '1366x768', 'Intel Core i3 7130U 2.7GHz', '4GB', '1TB HDD', 'Intel HD Graphics 620', 'Linux', '2.1kg', 367]\n",
      "['36', 'Lenovo', 'IdeaPad 120S-14IAP', 'Notebook', '14', '1366x768', 'Intel Celeron Dual Core N3350 1.1GHz', '4GB', '64GB Flash Storage', 'Intel HD Graphics 500', 'Windows 10', '1.44kg', 249]\n"
     ]
    }
   ],
   "source": [
    "inventory = Inventory('laptop_price.csv')\n",
    "print(inventory.get_laptop_from_id_fast('37'))\n",
    "print(inventory.get_laptop_from_id_fast('36'))"
   ]
  },
  {
   "cell_type": "markdown",
   "metadata": {},
   "source": [
    "\n",
    "### Comparing the Performance"
   ]
  },
  {
   "cell_type": "code",
   "execution_count": 59,
   "metadata": {},
   "outputs": [
    {
     "name": "stdout",
     "output_type": "stream",
     "text": [
      "No Dictionary Total Time:0.37648749351501465\n",
      "Dictionary Time: 0.012545347213745117\n"
     ]
    }
   ],
   "source": [
    "import time\n",
    "import random\n",
    "\n",
    "ids = [str(random.randint(1000000, 9999999)) for _ in range(10000)]\n",
    "\n",
    "inventory = Inventory('laptop_price.csv')\n",
    "\n",
    "total_time_no_dict = 0\n",
    "for identifier in ids:\n",
    "    start = time.time()\n",
    "    inventory.get_laptop_from_id(identifier)\n",
    "    end = time.time()\n",
    "    total_time_no_dict += end - start \n",
    "    \n",
    "total_time_dict = 0\n",
    "for identifier in ids:\n",
    "    start = time.time()\n",
    "    inventory.get_laptop_from_id_fast(identifier)\n",
    "    end = time.time()\n",
    "    total_time_dict += end - start\n",
    "    \n",
    "    \n",
    "print('No Dictionary Total Time:' + str(total_time_no_dict))\n",
    "print('Dictionary Time: ' + str(total_time_dict))"
   ]
  },
  {
   "cell_type": "markdown",
   "metadata": {},
   "source": [
    "### Analysis\n"
   ]
  },
  {
   "cell_type": "markdown",
   "metadata": {},
   "source": [
    "The get_laptop_from_id() method has time complexity O(R) where R is the number of rows. In contrast, get_laptop_from_id_fast() has time complexity O(1).\n",
    "\n",
    "We got: \n",
    "No Dictionary Total Time:0.37648749351501465\n",
    "Dictionary Time: 0.012545347213745117\n",
    "\n",
    "We can see a significant improve in performance. If we divide 0.376 by 0.012 we see that the new method is about 31 times faster for this input size.\n"
   ]
  },
  {
   "cell_type": "markdown",
   "metadata": {},
   "source": [
    "### Two Laptop Promotion"
   ]
  },
  {
   "cell_type": "markdown",
   "metadata": {},
   "source": [
    "Write a method that finds whether we can spend a given amount of money by purchasing either one or two laptops."
   ]
  },
  {
   "cell_type": "code",
   "execution_count": 64,
   "metadata": {},
   "outputs": [],
   "source": [
    "class Inventory():\n",
    "    def __init__(self, csv_filename):\n",
    "        with open(csv_filename,encoding='utf-8', errors='ignore') as f:\n",
    "            reader = csv.reader(f)\n",
    "            rows = list(reader)\n",
    "        self.header = rows[0]\n",
    "        self.rows = rows[1:]\n",
    "        for row in self.rows:\n",
    "            row[-1] = float(row[-1])\n",
    "            row[-1] = int(row[-1])\n",
    "        self.id_to_row = {}\n",
    "        for row in self.rows:\n",
    "            self.id_to_row[row[0]] = row\n",
    "    def get_laptop_from_id_fast(self,laptop_id):\n",
    "        if laptop_id in self.id_to_row:\n",
    "            return self.id_to_row[laptop_id]\n",
    "        return None\n",
    "    def get_laptop_from_id(self, laptop_id):\n",
    "        for row in self.rows:\n",
    "            if row[0] == laptop_id:\n",
    "                return row\n",
    "        return None\n",
    "    \n",
    "    def check_promotion_dollars(self,dollars):\n",
    "        for row in self.rows:\n",
    "            if row[-1] == dollars:\n",
    "                return True\n",
    "        for row1 in self.rows:\n",
    "            for row2 in self.rows:\n",
    "                if row1[-1] + row2[-1] == dollars:\n",
    "                    return True\n",
    "        return False\n",
    "            "
   ]
  },
  {
   "cell_type": "code",
   "execution_count": 65,
   "metadata": {},
   "outputs": [
    {
     "name": "stdout",
     "output_type": "stream",
     "text": [
      "True\n",
      "False\n"
     ]
    }
   ],
   "source": [
    "inventory = Inventory('laptop_price.csv')\n",
    "print(inventory.check_promotion_dollars(1000))\n",
    "print(inventory.check_promotion_dollars(442))"
   ]
  },
  {
   "cell_type": "markdown",
   "metadata": {},
   "source": [
    "### Optimizing Laptop Premium"
   ]
  },
  {
   "cell_type": "code",
   "execution_count": 92,
   "metadata": {},
   "outputs": [],
   "source": [
    "class Inventory():\n",
    "    def __init__(self, csv_filename):\n",
    "        with open(csv_filename,encoding='utf-8', errors='ignore') as f:\n",
    "            reader = csv.reader(f)\n",
    "            rows = list(reader)\n",
    "        self.header = rows[0]\n",
    "        self.rows = rows[1:]\n",
    "        for row in self.rows:\n",
    "            row[-1] = float(row[-1])\n",
    "            row[-1] = int(row[-1])\n",
    "        \n",
    "        self.id_to_row = {}\n",
    "        for row in self.rows:\n",
    "            self.id_to_row[row[0]] = row\n",
    "\n",
    "        self.prices = set()\n",
    "        for row in rows:\n",
    "            self.prices.add(row[-1])\n",
    "\n",
    "    def get_laptop_from_id_fast(self,laptop_id):\n",
    "        if laptop_id in self.id_to_row:\n",
    "            return self.id_to_row[laptop_id]\n",
    "        return None\n",
    "    def get_laptop_from_id(self, laptop_id):\n",
    "        for row in self.rows:\n",
    "            if row[0] == laptop_id:\n",
    "                return row\n",
    "        return None\n",
    "    \n",
    "    def check_promotion_dollars(self,dollars):\n",
    "        for row in self.rows:\n",
    "            if row[-1] == dollars:\n",
    "                return True\n",
    "        for row1 in self.rows:\n",
    "            for row2 in self.rows:\n",
    "                if row1[-1] + row2[-1] == dollars:\n",
    "                    return True\n",
    "        return False\n",
    "    \n",
    "    def check_promotion_dollars_fast(self,dollars):\n",
    "        if dollars in self.prices:\n",
    "            return True\n",
    "        for price in self.prices:\n",
    "            if dollars - int(price) in self.prices:\n",
    "                return True\n",
    "        return False"
   ]
  },
  {
   "cell_type": "code",
   "execution_count": 93,
   "metadata": {},
   "outputs": [
    {
     "name": "stdout",
     "output_type": "stream",
     "text": [
      "True\n"
     ]
    }
   ],
   "source": [
    "inventory = Inventory('laptop_price.csv')\n",
    "\n",
    "print(inventory.check_promotion_dollars_fast(1000))"
   ]
  },
  {
   "cell_type": "markdown",
   "metadata": {},
   "source": [
    "### Compaing Promotion Functions"
   ]
  },
  {
   "cell_type": "markdown",
   "metadata": {},
   "source": [
    "Compare the performance of both methods for the promotion."
   ]
  },
  {
   "cell_type": "code",
   "execution_count": null,
   "metadata": {},
   "outputs": [],
   "source": [
    "prices = [random.randint(100, 5000) for _ in range(100)] \n",
    "\n",
    "inventory = Inventory('laptop_price.csv')\n",
    "\n",
    "total_time_no_set = 0\n",
    "for value in prices:\n",
    "    start = time.time()\n",
    "    inventory.check_promotion_dollars(value)\n",
    "    end = time.time()\n",
    "    total_time_no_set += end - start\n",
    "    \n",
    "total_time_set = 0\n",
    "for value in prices:\n",
    "    start = time.time()\n",
    "    inventory.check_promotion_dollars_fast(value)\n",
    "    end = time.time()\n",
    "    total_time_set += end - start\n",
    "    \n",
    "print(total_time_no_set)\n",
    "\n",
    "print(total_time_set)"
   ]
  },
  {
   "cell_type": "markdown",
   "metadata": {},
   "source": [
    "### Finding Laptops Within a Budget"
   ]
  },
  {
   "cell_type": "code",
   "execution_count": null,
   "metadata": {},
   "outputs": [],
   "source": [
    "def row_price(row):\n",
    "    return row[-1]\n",
    "\n",
    "class Inventory():\n",
    "    \n",
    "    def __init__(self, csv_filename):\n",
    "        with open(csv_filename) as f:\n",
    "            reader = csv.reader(f)\n",
    "            rows = list(reader)\n",
    "        self.header = rows[0]\n",
    "        self.rows = rows[1:]\n",
    "        for row in self.rows:\n",
    "            row[-1] = int(row[-1])\n",
    "            \n",
    "        self.id_to_row = {}\n",
    "        for row in self.rows:\n",
    "            self.id_to_row[row[0]] = row\n",
    "            \n",
    "        self.prices = set()\n",
    "        for row in self.rows:\n",
    "            self.prices.add(row[-1])\n",
    "            \n",
    "        self.rows_by_price = sorted(self.rows, key=row_price)\n",
    "            \n",
    "    def get_laptop_from_id_fast(self, laptop_id):\n",
    "        if laptop_id in self.id_to_row:\n",
    "            return self.id_to_row[laptop_id]\n",
    "        return None\n",
    "            \n",
    "    def get_laptop_from_id(self, laptop_id):\n",
    "        for row in self.rows:\n",
    "            if row[0] == laptop_id:\n",
    "                return row\n",
    "        return None\n",
    "    \n",
    "    def check_promotion_dollars(self, dollars):\n",
    "        for row in self.rows:\n",
    "            if row[-1] == dollars:\n",
    "                return True\n",
    "        \n",
    "        for row1 in self.rows:                    \n",
    "            for row2 in self.rows:\n",
    "                if row1[-1] + row2[-1] == dollars:\n",
    "                    return True\n",
    "        return False   \n",
    "    \n",
    "    def check_promotion_dollars_fast(self, dollars):\n",
    "        if dollars in self.prices:\n",
    "            return True\n",
    "        for price in self.prices:\n",
    "            if dollars - price in self.prices:\n",
    "                return True\n",
    "        return False\n",
    "    \n",
    "    def find_laptop_with_price(self, target_price):\n",
    "        range_start = 0                                   \n",
    "        range_end = len(self.rows_by_price) - 1                       \n",
    "        while range_start < range_end:\n",
    "            range_middle = (range_end + range_start) // 2  \n",
    "            value = self.rows_by_price[range_middle][-1]\n",
    "            if value == target_price:                            \n",
    "                return range_middle                        \n",
    "            elif value < target_price:                           \n",
    "                range_start = range_middle + 1             \n",
    "            else:                                          \n",
    "                range_end = range_middle - 1 \n",
    "        if self.rows_by_price[range_start][-1] != target_price:                  \n",
    "            return -1                                      \n",
    "        return range_start"
   ]
  }
 ],
 "metadata": {
  "kernelspec": {
   "display_name": "Python 3",
   "language": "python",
   "name": "python3"
  },
  "language_info": {
   "codemirror_mode": {
    "name": "ipython",
    "version": 3
   },
   "file_extension": ".py",
   "mimetype": "text/x-python",
   "name": "python",
   "nbconvert_exporter": "python",
   "pygments_lexer": "ipython3",
   "version": "3.10.12"
  },
  "orig_nbformat": 4
 },
 "nbformat": 4,
 "nbformat_minor": 2
}
